{
 "cells": [
  {
   "cell_type": "code",
   "execution_count": 9,
   "id": "2de0de24",
   "metadata": {},
   "outputs": [],
   "source": [
    "import pandas as pd\n",
    "import numpy as np\n",
    "import matplotlib.pyplot as plt"
   ]
  },
  {
   "cell_type": "code",
   "execution_count": 87,
   "id": "d7615a53",
   "metadata": {},
   "outputs": [],
   "source": [
    "df = pd.read_csv('placement.csv')"
   ]
  },
  {
   "cell_type": "code",
   "execution_count": 88,
   "id": "06458fa0",
   "metadata": {},
   "outputs": [
    {
     "data": {
      "text/html": [
       "<div>\n",
       "<style scoped>\n",
       "    .dataframe tbody tr th:only-of-type {\n",
       "        vertical-align: middle;\n",
       "    }\n",
       "\n",
       "    .dataframe tbody tr th {\n",
       "        vertical-align: top;\n",
       "    }\n",
       "\n",
       "    .dataframe thead th {\n",
       "        text-align: right;\n",
       "    }\n",
       "</style>\n",
       "<table border=\"1\" class=\"dataframe\">\n",
       "  <thead>\n",
       "    <tr style=\"text-align: right;\">\n",
       "      <th></th>\n",
       "      <th>cgpa</th>\n",
       "      <th>placement_exam_marks</th>\n",
       "      <th>placed</th>\n",
       "    </tr>\n",
       "  </thead>\n",
       "  <tbody>\n",
       "    <tr>\n",
       "      <th>0</th>\n",
       "      <td>7.19</td>\n",
       "      <td>26.0</td>\n",
       "      <td>1</td>\n",
       "    </tr>\n",
       "    <tr>\n",
       "      <th>1</th>\n",
       "      <td>7.46</td>\n",
       "      <td>38.0</td>\n",
       "      <td>1</td>\n",
       "    </tr>\n",
       "    <tr>\n",
       "      <th>2</th>\n",
       "      <td>7.54</td>\n",
       "      <td>40.0</td>\n",
       "      <td>1</td>\n",
       "    </tr>\n",
       "    <tr>\n",
       "      <th>3</th>\n",
       "      <td>6.42</td>\n",
       "      <td>8.0</td>\n",
       "      <td>1</td>\n",
       "    </tr>\n",
       "    <tr>\n",
       "      <th>4</th>\n",
       "      <td>7.23</td>\n",
       "      <td>17.0</td>\n",
       "      <td>0</td>\n",
       "    </tr>\n",
       "  </tbody>\n",
       "</table>\n",
       "</div>"
      ],
      "text/plain": [
       "   cgpa  placement_exam_marks  placed\n",
       "0  7.19                  26.0       1\n",
       "1  7.46                  38.0       1\n",
       "2  7.54                  40.0       1\n",
       "3  6.42                   8.0       1\n",
       "4  7.23                  17.0       0"
      ]
     },
     "execution_count": 88,
     "metadata": {},
     "output_type": "execute_result"
    }
   ],
   "source": [
    "df.head()"
   ]
  },
  {
   "cell_type": "code",
   "execution_count": 89,
   "id": "f2917023",
   "metadata": {},
   "outputs": [],
   "source": [
    "df = df.drop('placed', axis=1)"
   ]
  },
  {
   "cell_type": "code",
   "execution_count": 90,
   "id": "7db07360",
   "metadata": {},
   "outputs": [
    {
     "data": {
      "text/plain": [
       "(1000, 2)"
      ]
     },
     "execution_count": 90,
     "metadata": {},
     "output_type": "execute_result"
    }
   ],
   "source": [
    "df.shape"
   ]
  },
  {
   "cell_type": "code",
   "execution_count": 91,
   "id": "dc92e11b",
   "metadata": {},
   "outputs": [],
   "source": [
    "rows_to_delete = list(range(300, 300 + 200))\n",
    "df = df.drop(index=rows_to_delete)"
   ]
  },
  {
   "cell_type": "code",
   "execution_count": 92,
   "id": "e75e1681",
   "metadata": {},
   "outputs": [
    {
     "data": {
      "text/html": [
       "<div>\n",
       "<style scoped>\n",
       "    .dataframe tbody tr th:only-of-type {\n",
       "        vertical-align: middle;\n",
       "    }\n",
       "\n",
       "    .dataframe tbody tr th {\n",
       "        vertical-align: top;\n",
       "    }\n",
       "\n",
       "    .dataframe thead th {\n",
       "        text-align: right;\n",
       "    }\n",
       "</style>\n",
       "<table border=\"1\" class=\"dataframe\">\n",
       "  <thead>\n",
       "    <tr style=\"text-align: right;\">\n",
       "      <th></th>\n",
       "      <th>cgpa</th>\n",
       "      <th>placement_exam_marks</th>\n",
       "    </tr>\n",
       "  </thead>\n",
       "  <tbody>\n",
       "    <tr>\n",
       "      <th>0</th>\n",
       "      <td>7.19</td>\n",
       "      <td>26.0</td>\n",
       "    </tr>\n",
       "    <tr>\n",
       "      <th>1</th>\n",
       "      <td>7.46</td>\n",
       "      <td>38.0</td>\n",
       "    </tr>\n",
       "    <tr>\n",
       "      <th>2</th>\n",
       "      <td>7.54</td>\n",
       "      <td>40.0</td>\n",
       "    </tr>\n",
       "    <tr>\n",
       "      <th>3</th>\n",
       "      <td>6.42</td>\n",
       "      <td>8.0</td>\n",
       "    </tr>\n",
       "    <tr>\n",
       "      <th>4</th>\n",
       "      <td>7.23</td>\n",
       "      <td>17.0</td>\n",
       "    </tr>\n",
       "  </tbody>\n",
       "</table>\n",
       "</div>"
      ],
      "text/plain": [
       "   cgpa  placement_exam_marks\n",
       "0  7.19                  26.0\n",
       "1  7.46                  38.0\n",
       "2  7.54                  40.0\n",
       "3  6.42                   8.0\n",
       "4  7.23                  17.0"
      ]
     },
     "execution_count": 92,
     "metadata": {},
     "output_type": "execute_result"
    }
   ],
   "source": [
    "df.head()"
   ]
  },
  {
   "cell_type": "code",
   "execution_count": 93,
   "id": "7265acef",
   "metadata": {},
   "outputs": [
    {
     "data": {
      "text/plain": [
       "(800, 2)"
      ]
     },
     "execution_count": 93,
     "metadata": {},
     "output_type": "execute_result"
    }
   ],
   "source": [
    "df.shape"
   ]
  },
  {
   "cell_type": "code",
   "execution_count": 94,
   "id": "039998e4",
   "metadata": {},
   "outputs": [
    {
     "data": {
      "text/plain": [
       "Text(0, 0.5, 'exam_marks')"
      ]
     },
     "execution_count": 94,
     "metadata": {},
     "output_type": "execute_result"
    },
    {
     "data": {
      "image/png": "[encoded data removed]",
      "text/plain": [
       "<Figure size 640x480 with 1 Axes>"
      ]
     },
     "metadata": {},
     "output_type": "display_data"
    }
   ],
   "source": [
    "plt.scatter(df['cgpa'], df['placement_exam_marks'])\n",
    "plt.xlabel('cgpa')\n",
    "plt.ylabel('exam_marks')"
   ]
  },
  {
   "cell_type": "code",
   "execution_count": 95,
   "id": "c49a7378",
   "metadata": {},
   "outputs": [],
   "source": [
    "X = df.iloc[:,0:1]\n",
    "y = df.iloc[:,-1]"
   ]
  },
  {
   "cell_type": "code",
   "execution_count": 96,
   "id": "7952b21e",
   "metadata": {},
   "outputs": [
    {
     "data": {
      "text/plain": [
       "0      26.0\n",
       "1      38.0\n",
       "2      40.0\n",
       "3       8.0\n",
       "4      17.0\n",
       "       ... \n",
       "995    44.0\n",
       "996    65.0\n",
       "997    34.0\n",
       "998    46.0\n",
       "999    10.0\n",
       "Name: placement_exam_marks, Length: 800, dtype: float64"
      ]
     },
     "execution_count": 96,
     "metadata": {},
     "output_type": "execute_result"
    }
   ],
   "source": [
    "y"
   ]
  },
  {
   "cell_type": "code",
   "execution_count": 97,
   "id": "bd3e8240",
   "metadata": {},
   "outputs": [],
   "source": [
    "from sklearn.model_selection import train_test_split\n",
    "X_train,X_test,y_train,y_test = train_test_split(X,y,test_size=0.2, random_state=2)"
   ]
  },
  {
   "cell_type": "code",
   "execution_count": 98,
   "id": "1d0b2061",
   "metadata": {},
   "outputs": [],
   "source": [
    "from sklearn.linear_model import LinearRegression"
   ]
  },
  {
   "cell_type": "code",
   "execution_count": 99,
   "id": "230abd14",
   "metadata": {},
   "outputs": [],
   "source": [
    "lr = LinearRegression()"
   ]
  },
  {
   "cell_type": "code",
   "execution_count": 100,
   "id": "2444057d",
   "metadata": {},
   "outputs": [
    {
     "data": {
      "text/html": [
       "<style>#sk-container-id-3 {color: black;background-color: white;}#sk-container-id-3 pre{padding: 0;}#sk-container-id-3 div.sk-toggleable {background-color: white;}#sk-container-id-3 label.sk-toggleable__label {cursor: pointer;display: block;width: 100%;margin-bottom: 0;padding: 0.3em;box-sizing: border-box;text-align: center;}#sk-container-id-3 label.sk-toggleable__label-arrow:before {content: \"▸\";float: left;margin-right: 0.25em;color: #696969;}#sk-container-id-3 label.sk-toggleable__label-arrow:hover:before {color: black;}#sk-container-id-3 div.sk-estimator:hover label.sk-toggleable__label-arrow:before {color: black;}#sk-container-id-3 div.sk-toggleable__content {max-height: 0;max-width: 0;overflow: hidden;text-align: left;background-color: #f0f8ff;}#sk-container-id-3 div.sk-toggleable__content pre {margin: 0.2em;color: black;border-radius: 0.25em;background-color: #f0f8ff;}#sk-container-id-3 input.sk-toggleable__control:checked~div.sk-toggleable__content {max-height: 200px;max-width: 100%;overflow: auto;}#sk-container-id-3 input.sk-toggleable__control:checked~label.sk-toggleable__label-arrow:before {content: \"▾\";}#sk-container-id-3 div.sk-estimator input.sk-toggleable__control:checked~label.sk-toggleable__label {background-color: #d4ebff;}#sk-container-id-3 div.sk-label input.sk-toggleable__control:checked~label.sk-toggleable__label {background-color: #d4ebff;}#sk-container-id-3 input.sk-hidden--visually {border: 0;clip: rect(1px 1px 1px 1px);clip: rect(1px, 1px, 1px, 1px);height: 1px;margin: -1px;overflow: hidden;padding: 0;position: absolute;width: 1px;}#sk-container-id-3 div.sk-estimator {font-family: monospace;background-color: #f0f8ff;border: 1px dotted black;border-radius: 0.25em;box-sizing: border-box;margin-bottom: 0.5em;}#sk-container-id-3 div.sk-estimator:hover {background-color: #d4ebff;}#sk-container-id-3 div.sk-parallel-item::after {content: \"\";width: 100%;border-bottom: 1px solid gray;flex-grow: 1;}#sk-container-id-3 div.sk-label:hover label.sk-toggleable__label {background-color: #d4ebff;}#sk-container-id-3 div.sk-serial::before {content: \"\";position: absolute;border-left: 1px solid gray;box-sizing: border-box;top: 0;bottom: 0;left: 50%;z-index: 0;}#sk-container-id-3 div.sk-serial {display: flex;flex-direction: column;align-items: center;background-color: white;padding-right: 0.2em;padding-left: 0.2em;position: relative;}#sk-container-id-3 div.sk-item {position: relative;z-index: 1;}#sk-container-id-3 div.sk-parallel {display: flex;align-items: stretch;justify-content: center;background-color: white;position: relative;}#sk-container-id-3 div.sk-item::before, #sk-container-id-3 div.sk-parallel-item::before {content: \"\";position: absolute;border-left: 1px solid gray;box-sizing: border-box;top: 0;bottom: 0;left: 50%;z-index: -1;}#sk-container-id-3 div.sk-parallel-item {display: flex;flex-direction: column;z-index: 1;position: relative;background-color: white;}#sk-container-id-3 div.sk-parallel-item:first-child::after {align-self: flex-end;width: 50%;}#sk-container-id-3 div.sk-parallel-item:last-child::after {align-self: flex-start;width: 50%;}#sk-container-id-3 div.sk-parallel-item:only-child::after {width: 0;}#sk-container-id-3 div.sk-dashed-wrapped {border: 1px dashed gray;margin: 0 0.4em 0.5em 0.4em;box-sizing: border-box;padding-bottom: 0.4em;background-color: white;}#sk-container-id-3 div.sk-label label {font-family: monospace;font-weight: bold;display: inline-block;line-height: 1.2em;}#sk-container-id-3 div.sk-label-container {text-align: center;}#sk-container-id-3 div.sk-container {/* jupyter's `normalize.less` sets `[hidden] { display: none; }` but bootstrap.min.css set `[hidden] { display: none !important; }` so we also need the `!important` here to be able to override the default hidden behavior on the sphinx rendered scikit-learn.org. See: https://github.com/scikit-learn/scikit-learn/issues/21755 */display: inline-block !important;position: relative;}#sk-container-id-3 div.sk-text-repr-fallback {display: none;}</style><div id=\"sk-container-id-3\" class=\"sk-top-container\"><div class=\"sk-text-repr-fallback\"><pre>LinearRegression()</pre><b>In a Jupyter environment, please rerun this cell to show the HTML representation or trust the notebook. <br />On GitHub, the HTML representation is unable to render, please try loading this page with nbviewer.org.</b></div><div class=\"sk-container\" hidden><div class=\"sk-item\"><div class=\"sk-estimator sk-toggleable\"><input class=\"sk-toggleable__control sk-hidden--visually\" id=\"sk-estimator-id-3\" type=\"checkbox\" checked><label for=\"sk-estimator-id-3\" class=\"sk-toggleable__label sk-toggleable__label-arrow\">LinearRegression</label><div class=\"sk-toggleable__content\"><pre>LinearRegression()</pre></div></div></div></div></div>"
      ],
      "text/plain": [
       "LinearRegression()"
      ]
     },
     "execution_count": 100,
     "metadata": {},
     "output_type": "execute_result"
    }
   ],
   "source": [
    "lr.fit(X_train, y_train)"
   ]
  },
  {
   "cell_type": "code",
   "execution_count": 101,
   "id": "80e6f8c1",
   "metadata": {},
   "outputs": [
    {
     "data": {
      "text/html": [
       "<div>\n",
       "<style scoped>\n",
       "    .dataframe tbody tr th:only-of-type {\n",
       "        vertical-align: middle;\n",
       "    }\n",
       "\n",
       "    .dataframe tbody tr th {\n",
       "        vertical-align: top;\n",
       "    }\n",
       "\n",
       "    .dataframe thead th {\n",
       "        text-align: right;\n",
       "    }\n",
       "</style>\n",
       "<table border=\"1\" class=\"dataframe\">\n",
       "  <thead>\n",
       "    <tr style=\"text-align: right;\">\n",
       "      <th></th>\n",
       "      <th>cgpa</th>\n",
       "    </tr>\n",
       "  </thead>\n",
       "  <tbody>\n",
       "    <tr>\n",
       "      <th>15</th>\n",
       "      <td>7.10</td>\n",
       "    </tr>\n",
       "    <tr>\n",
       "      <th>146</th>\n",
       "      <td>6.75</td>\n",
       "    </tr>\n",
       "    <tr>\n",
       "      <th>741</th>\n",
       "      <td>7.58</td>\n",
       "    </tr>\n",
       "    <tr>\n",
       "      <th>647</th>\n",
       "      <td>6.69</td>\n",
       "    </tr>\n",
       "    <tr>\n",
       "      <th>109</th>\n",
       "      <td>7.23</td>\n",
       "    </tr>\n",
       "    <tr>\n",
       "      <th>...</th>\n",
       "      <td>...</td>\n",
       "    </tr>\n",
       "    <tr>\n",
       "      <th>545</th>\n",
       "      <td>6.35</td>\n",
       "    </tr>\n",
       "    <tr>\n",
       "      <th>837</th>\n",
       "      <td>6.65</td>\n",
       "    </tr>\n",
       "    <tr>\n",
       "      <th>517</th>\n",
       "      <td>6.37</td>\n",
       "    </tr>\n",
       "    <tr>\n",
       "      <th>258</th>\n",
       "      <td>6.12</td>\n",
       "    </tr>\n",
       "    <tr>\n",
       "      <th>285</th>\n",
       "      <td>7.42</td>\n",
       "    </tr>\n",
       "  </tbody>\n",
       "</table>\n",
       "<p>160 rows × 1 columns</p>\n",
       "</div>"
      ],
      "text/plain": [
       "     cgpa\n",
       "15   7.10\n",
       "146  6.75\n",
       "741  7.58\n",
       "647  6.69\n",
       "109  7.23\n",
       "..    ...\n",
       "545  6.35\n",
       "837  6.65\n",
       "517  6.37\n",
       "258  6.12\n",
       "285  7.42\n",
       "\n",
       "[160 rows x 1 columns]"
      ]
     },
     "execution_count": 101,
     "metadata": {},
     "output_type": "execute_result"
    }
   ],
   "source": [
    "X_test"
   ]
  },
  {
   "cell_type": "code",
   "execution_count": 102,
   "id": "fbf9fca3",
   "metadata": {},
   "outputs": [
    {
     "data": {
      "text/plain": [
       "15     21.0\n",
       "146    22.0\n",
       "741    66.0\n",
       "647     4.0\n",
       "109    21.0\n",
       "       ... \n",
       "545    17.0\n",
       "837    24.0\n",
       "517    38.0\n",
       "258     6.0\n",
       "285    57.0\n",
       "Name: placement_exam_marks, Length: 160, dtype: float64"
      ]
     },
     "execution_count": 102,
     "metadata": {},
     "output_type": "execute_result"
    }
   ],
   "source": [
    "y_test"
   ]
  },
  {
   "cell_type": "code",
   "execution_count": 103,
   "id": "f540e04d",
   "metadata": {},
   "outputs": [
    {
     "name": "stderr",
     "output_type": "stream",
     "text": [
      "/home/bharat/anaconda3/lib/python3.10/site-packages/sklearn/base.py:420: UserWarning: X does not have valid feature names, but LinearRegression was fitted with feature names\n",
      "  warnings.warn(\n"
     ]
    },
    {
     "data": {
      "text/plain": [
       "array([32.07756743])"
      ]
     },
     "execution_count": 103,
     "metadata": {},
     "output_type": "execute_result"
    }
   ],
   "source": [
    "lr.predict(X_test.iloc[0].values.reshape(1,1))"
   ]
  },
  {
   "cell_type": "code",
   "execution_count": 104,
   "id": "e4c8a3c3",
   "metadata": {},
   "outputs": [
    {
     "data": {
      "text/plain": [
       "Text(0, 0.5, 'Package(in lpa)')"
      ]
     },
     "execution_count": 104,
     "metadata": {},
     "output_type": "execute_result"
    },
    {
     "data": {
      "image/png": "[encoded data removed]",
      "text/plain": [
       "<Figure size 640x480 with 1 Axes>"
      ]
     },
     "metadata": {},
     "output_type": "display_data"
    }
   ],
   "source": [
    "plt.scatter(df['cgpa'],df['placement_exam_marks'])\n",
    "plt.plot(X_train,lr.predict(X_train),color='red')\n",
    "plt.xlabel('CGPA')\n",
    "plt.ylabel('Package(in lpa)')"
   ]
  },
  {
   "cell_type": "code",
   "execution_count": 105,
   "id": "effd5364",
   "metadata": {},
   "outputs": [
    {
     "name": "stdout",
     "output_type": "stream",
     "text": [
      "[-0.39848333]\n"
     ]
    }
   ],
   "source": [
    "m = lr.coef_\n",
    "print(m)"
   ]
  },
  {
   "cell_type": "code",
   "execution_count": 106,
   "id": "42544e7d",
   "metadata": {},
   "outputs": [
    {
     "name": "stdout",
     "output_type": "stream",
     "text": [
      "34.90679905872355\n"
     ]
    }
   ],
   "source": [
    "b = lr.intercept_\n",
    "print(b)"
   ]
  },
  {
   "cell_type": "code",
   "execution_count": 34,
   "id": "e8974b2b",
   "metadata": {},
   "outputs": [
    {
     "data": {
      "text/plain": [
       "array([31.70187282])"
      ]
     },
     "execution_count": 34,
     "metadata": {},
     "output_type": "execute_result"
    }
   ],
   "source": [
    "m*8.58+b"
   ]
  },
  {
   "cell_type": "markdown",
   "id": "114161d3",
   "metadata": {},
   "source": [
    "### MERA LR"
   ]
  },
  {
   "cell_type": "code",
   "execution_count": 73,
   "id": "dd002072",
   "metadata": {},
   "outputs": [],
   "source": [
    "class MeraLr:\n",
    "    \n",
    "    def __init__(self):\n",
    "        self.m = None\n",
    "        self.b = None\n",
    "        \n",
    "    def fit(self, X_train, y_train):\n",
    "        num = 0\n",
    "        den = 0\n",
    "        \n",
    "        for i in range(X_train.shape[0]):\n",
    "            num = num + ((X_train[i] - X_train.mean())*(y_train[i] - y_train.mean()))\n",
    "            den = den + ((X_train[i] - X_train.mean())*(X_train[i] - X_train.mean()))\n",
    "            \n",
    "        self.m = num/den\n",
    "        self.b = y_train.mean() - (self.m * X_train.mean())\n",
    "        print(self.m)\n",
    "        print(self.b)\n",
    "        \n",
    "    def predict(self, X_test):\n",
    "        print(X_test)\n",
    "        return self.m * X_test + self.b\n",
    "            "
   ]
  },
  {
   "cell_type": "code",
   "execution_count": 74,
   "id": "e61be9f8",
   "metadata": {},
   "outputs": [
    {
     "data": {
      "text/plain": [
       "(640, 1)"
      ]
     },
     "execution_count": 74,
     "metadata": {},
     "output_type": "execute_result"
    }
   ],
   "source": [
    "X_train.shape"
   ]
  },
  {
   "cell_type": "code",
   "execution_count": 77,
   "id": "0cd0f7ca",
   "metadata": {},
   "outputs": [],
   "source": [
    "X = df.iloc[:,0].values\n",
    "y = df.iloc[:,1].values"
   ]
  },
  {
   "cell_type": "code",
   "execution_count": 78,
   "id": "c87c78d3",
   "metadata": {},
   "outputs": [
    {
     "data": {
      "text/plain": [
       "array([7.19, 7.46, 7.54, 6.42, 7.23, 7.3 , 6.69, 7.12, 6.45, 7.75, 6.82,\n",
       "       6.38, 6.58, 5.68, 7.91, 7.1 , 6.53, 7.56, 6.93, 7.63, 6.69, 7.43,\n",
       "       6.76, 6.05, 6.44, 6.28, 7.45, 6.53, 7.23, 6.51, 7.46, 7.66, 5.91,\n",
       "       6.23, 8.15, 7.48, 6.85, 8.51, 6.58, 7.25, 6.6 , 6.7 , 7.46, 7.85,\n",
       "       7.88, 6.92, 7.3 , 6.92, 6.29, 8.23, 6.2 , 6.24, 7.53, 6.69, 8.42,\n",
       "       8.12, 6.93, 7.73, 7.34, 7.7 , 7.94, 7.51, 7.61, 6.22, 6.98, 6.27,\n",
       "       6.67, 8.04, 6.58, 7.41, 6.98, 6.13, 7.9 , 6.39, 6.16, 6.77, 8.35,\n",
       "       7.1 , 8.2 , 7.63, 6.87, 7.12, 7.22, 7.38, 5.65, 6.03, 7.19, 6.96,\n",
       "       6.78, 6.56, 7.61, 7.42, 6.48, 7.  , 7.15, 6.89, 7.09, 7.33, 8.12,\n",
       "       7.46, 6.56, 6.48, 5.92, 6.44, 6.82, 6.72, 6.59, 7.32, 5.94, 7.23,\n",
       "       6.96, 6.48, 7.23, 7.24, 6.3 , 7.28, 7.16, 7.11, 6.9 , 7.  , 6.99,\n",
       "       5.91, 5.97, 6.25, 6.2 , 7.46, 7.16, 6.95, 6.76, 6.81, 5.91, 8.19,\n",
       "       7.71, 7.65, 6.33, 6.63, 7.28, 5.69, 7.53, 8.09, 6.85, 7.19, 7.66,\n",
       "       6.32, 6.67, 7.08, 6.75, 6.68, 6.86, 6.81, 8.53, 7.29, 7.78, 6.29,\n",
       "       7.57, 7.84, 6.4 , 7.07, 5.74, 6.7 , 7.36, 6.26, 7.8 , 6.77, 6.29,\n",
       "       7.53, 7.76, 6.65, 6.51, 6.19, 6.17, 6.2 , 7.24, 6.71, 7.31, 7.57,\n",
       "       7.72, 6.22, 7.51, 6.4 , 7.18, 7.3 , 6.87, 6.11, 7.78, 7.3 , 6.97,\n",
       "       6.63, 5.92, 6.63, 7.54, 6.63, 6.67, 6.31, 8.19, 6.71, 7.28, 6.75,\n",
       "       8.29, 7.43, 5.77, 6.67, 6.51, 7.93, 7.01, 6.99, 7.5 , 7.05, 7.25,\n",
       "       6.88, 6.58, 7.36, 6.23, 6.62, 7.42, 7.72, 5.42, 6.92, 6.62, 5.48,\n",
       "       7.75, 6.78, 6.97, 6.15, 7.15, 7.36, 6.79, 7.03, 7.61, 6.68, 7.12,\n",
       "       6.4 , 7.77, 7.25, 8.09, 7.2 , 7.7 , 7.14, 7.41, 6.71, 7.25, 7.22,\n",
       "       5.99, 6.78, 7.68, 6.78, 7.67, 6.25, 6.9 , 7.46, 7.4 , 6.46, 6.24,\n",
       "       6.98, 6.7 , 7.76, 7.37, 5.74, 6.12, 7.16, 5.66, 7.17, 7.19, 8.11,\n",
       "       7.82, 6.94, 7.73, 6.  , 7.38, 6.47, 6.8 , 7.64, 6.23, 7.  , 7.13,\n",
       "       8.03, 6.96, 6.45, 5.23, 8.49, 6.62, 7.68, 6.43, 7.09, 6.99, 7.42,\n",
       "       6.29, 6.24, 7.07, 6.73, 8.38, 7.46, 5.82, 6.97, 6.12, 6.02, 6.99,\n",
       "       7.03, 6.16, 6.75, 6.07, 6.52, 7.18, 6.97, 7.24, 6.48, 7.84, 6.77,\n",
       "       6.41, 7.83, 6.84, 7.53, 7.08, 6.43, 7.36, 7.75, 6.83, 6.37, 7.53,\n",
       "       6.6 , 7.39, 5.72, 6.71, 6.13, 6.85, 6.33, 7.12, 7.72, 6.9 , 7.19,\n",
       "       6.28, 7.  , 6.9 , 7.19, 6.05, 6.49, 6.87, 7.13, 7.58, 6.79, 6.37,\n",
       "       6.11, 7.06, 7.48, 7.11, 6.35, 6.75, 7.33, 7.48, 7.37, 6.62, 6.55,\n",
       "       6.4 , 7.46, 6.84, 6.46, 6.7 , 6.47, 7.28, 6.61, 7.11, 7.07, 6.06,\n",
       "       6.81, 7.17, 6.61, 6.03, 6.18, 8.13, 7.08, 7.04, 6.47, 7.66, 7.23,\n",
       "       6.54, 7.55, 6.12, 6.85, 7.52, 7.13, 7.9 , 6.57, 7.05, 7.1 , 6.57,\n",
       "       7.85, 6.58, 7.58, 6.38, 6.6 , 6.68, 7.89, 7.09, 6.55, 6.95, 6.13,\n",
       "       8.48, 7.85, 7.59, 7.02, 6.24, 6.89, 7.16, 6.55, 6.89, 6.64, 6.79,\n",
       "       7.76, 7.33, 6.55, 7.32, 7.2 , 6.14, 6.66, 8.05, 6.51, 7.09, 7.08,\n",
       "       6.7 , 6.81, 7.07, 7.85, 7.4 , 7.35, 7.35, 7.6 , 7.63, 6.31, 7.12,\n",
       "       8.15, 6.56, 7.26, 6.37, 6.63, 7.69, 6.69, 6.39, 7.25, 7.46, 6.42,\n",
       "       6.36, 7.49, 7.89, 7.59, 7.65, 6.75, 7.38, 6.69, 7.15, 7.6 , 6.19,\n",
       "       6.57, 7.6 , 6.93, 7.03, 7.36, 7.39, 7.6 , 7.57, 6.68, 5.97, 5.72,\n",
       "       7.38, 7.05, 7.23, 6.16, 7.64, 7.17, 7.24, 6.94, 7.51, 7.45, 7.75,\n",
       "       6.87, 6.73, 6.1 , 6.73, 6.75, 6.65, 6.7 , 7.35, 6.78, 6.34, 6.5 ,\n",
       "       8.02, 6.05, 7.15, 6.81, 6.59, 8.02, 7.01, 7.32, 6.95, 6.64, 7.12,\n",
       "       6.75, 6.94, 7.23, 7.27, 6.64, 6.82, 6.74, 6.24, 7.04, 6.91, 6.55,\n",
       "       7.11, 6.86, 7.91, 6.97, 7.56, 6.97, 6.35, 7.8 , 7.06, 7.41, 7.06,\n",
       "       6.49, 7.12, 7.17, 6.87, 6.98, 6.86, 7.35, 7.95, 6.34, 7.93, 7.  ,\n",
       "       6.63, 6.79, 6.14, 6.74, 7.26, 7.07, 6.77, 7.23, 6.86, 6.52, 7.04,\n",
       "       6.34, 6.21, 7.58, 6.79, 7.62, 7.49, 6.82, 6.72, 6.26, 7.02, 7.31,\n",
       "       6.43, 6.69, 7.37, 6.87, 7.91, 6.94, 7.41, 6.84, 6.55, 6.55, 7.13,\n",
       "       8.02, 6.79, 7.16, 6.47, 6.55, 7.17, 7.33, 6.55, 6.68, 7.33, 7.31,\n",
       "       6.63, 8.06, 6.93, 6.76, 7.08, 7.67, 6.98, 6.39, 5.62, 7.17, 7.65,\n",
       "       6.23, 6.19, 6.07, 7.5 , 7.02, 6.54, 6.46, 7.48, 7.65, 7.92, 7.23,\n",
       "       6.24, 7.  , 6.02, 8.14, 5.86, 6.89, 6.5 , 6.31, 6.1 , 7.19, 6.49,\n",
       "       6.23, 6.39, 7.16, 7.68, 6.39, 7.14, 8.04, 5.99, 7.43, 7.78, 5.27,\n",
       "       7.19, 7.84, 5.52, 6.93, 6.27, 6.1 , 7.33, 6.67, 7.48, 6.3 , 7.05,\n",
       "       6.46, 6.44, 6.87, 6.46, 6.81, 6.91, 7.29, 6.22, 6.67, 7.09, 6.65,\n",
       "       6.84, 6.44, 6.89, 7.45, 7.33, 6.31, 7.62, 5.98, 6.99, 7.2 , 7.2 ,\n",
       "       7.89, 8.39, 6.29, 6.54, 7.74, 5.83, 7.89, 7.52, 5.72, 7.51, 6.52,\n",
       "       7.51, 6.32, 6.04, 8.04, 6.32, 6.77, 7.29, 8.04, 7.33, 5.51, 6.67,\n",
       "       6.56, 6.95, 7.9 , 6.6 , 5.73, 6.33, 6.32, 6.98, 6.83, 6.4 , 7.72,\n",
       "       7.25, 7.98, 7.11, 7.13, 7.22, 7.19, 7.62, 7.39, 7.73, 7.42, 5.96,\n",
       "       7.07, 6.5 , 7.82, 5.73, 7.13, 7.14, 7.62, 6.08, 7.1 , 7.03, 7.56,\n",
       "       7.36, 7.08, 7.56, 7.03, 6.06, 6.57, 7.82, 7.45, 7.48, 6.78, 6.97,\n",
       "       6.88, 6.88, 5.95, 7.09, 6.59, 7.97, 6.91, 7.68, 6.52, 6.85, 6.91,\n",
       "       7.02, 7.37, 6.63, 6.89, 6.94, 7.19, 6.89, 6.01, 7.15, 8.12, 7.32,\n",
       "       6.42, 6.27, 6.98, 6.16, 7.18, 7.03, 7.36, 7.21, 6.71, 7.95, 6.49,\n",
       "       6.38, 7.94, 6.65, 7.52, 7.71, 6.91, 8.  , 7.2 , 6.86, 6.51, 7.43,\n",
       "       6.76, 6.81, 7.65, 7.09, 6.74, 8.09, 7.37, 6.24, 7.35, 6.84, 6.86,\n",
       "       7.28, 6.69, 7.02, 6.1 , 6.42, 8.43, 6.96, 7.18, 6.78, 7.  , 6.18,\n",
       "       8.06, 6.87, 6.81, 6.89, 7.1 , 7.09, 6.77, 5.64, 6.23, 6.17, 7.04,\n",
       "       6.26, 6.73, 6.48, 8.87, 9.12, 4.89, 8.62, 4.9 ])"
      ]
     },
     "execution_count": 78,
     "metadata": {},
     "output_type": "execute_result"
    }
   ],
   "source": [
    "X"
   ]
  },
  {
   "cell_type": "code",
   "execution_count": 79,
   "id": "24699968",
   "metadata": {},
   "outputs": [
    {
     "data": {
      "text/plain": [
       "array([ 26.,  38.,  40.,   8.,  17.,  23.,  11.,  39.,  38.,  94.,  16.,\n",
       "         7.,  16.,  26.,  43.,  21.,  19.,  22.,  27.,  29.,  47.,  33.,\n",
       "        54.,  11.,  11.,  58.,   8.,  46.,  19.,  15.,  16.,  44.,  11.,\n",
       "        27.,   9.,  12.,  16.,   9.,  20.,  17.,  86.,  38.,  71.,  63.,\n",
       "        55.,  10.,  15.,  46.,  42.,  28.,  18.,  28.,  27.,  33.,  36.,\n",
       "        15.,  15.,  24.,  43.,  32.,  31.,  86.,  22.,  26.,  52.,  28.,\n",
       "        31.,  18.,  30.,  44.,  17.,  20.,  19.,  12.,   3.,  56.,  12.,\n",
       "        28.,  12.,  19.,  46.,  44.,  12.,  20.,  35.,  28.,  22.,  19.,\n",
       "        39.,  17.,  15.,   6.,  63.,  30.,  21.,  35.,  28.,  52.,  76.,\n",
       "        23.,  46.,  26.,  22.,  18.,  47.,  12.,  22.,   9.,  10.,  21.,\n",
       "        31.,  33.,  15.,  10.,  77.,  37.,  21.,   0.,  54.,  39.,  46.,\n",
       "        27.,  51.,  52.,  30.,  55.,  37.,  23.,  25.,  39.,  53.,  19.,\n",
       "        18.,  64.,  93.,  47.,  15.,  53.,   8.,   5.,  22.,  18.,  41.,\n",
       "        33.,  17.,  28.,  22.,  11.,  49.,  58.,  22.,  16.,  56.,  10.,\n",
       "        54.,  12.,  34.,  81.,  50.,  22.,  10.,  52.,  90.,  42.,  34.,\n",
       "         7.,  59.,  48.,  37.,  16.,  37.,  38.,  43.,  48.,  21.,  26.,\n",
       "        30.,  40.,  39.,  45.,  29.,  42.,  76.,  18.,  33.,  31.,  63.,\n",
       "        10.,  55.,   9.,  23.,   8.,  38.,  14.,  33.,  44.,  34.,  27.,\n",
       "        44.,  25.,  22.,  15.,  48.,  52.,   5.,  47.,  25.,  16.,  12.,\n",
       "        35.,  19.,  14.,  57.,  19.,  60.,  22.,  36.,  16.,  52.,   3.,\n",
       "        16.,  24.,  78.,  11.,  19.,  13.,  21.,  19.,  15.,  13.,  14.,\n",
       "        35.,  34.,  41.,  36.,  52.,  36.,  52.,  78.,  16.,  38.,  18.,\n",
       "        44.,  55.,  44.,  62.,  26.,  49.,  44.,  52.,  13.,  45.,  54.,\n",
       "        76.,  64.,  10.,  48.,  76.,   6.,  10.,  57.,  11.,  10.,  50.,\n",
       "        28.,  57.,  50.,  65.,  21.,  16.,  16.,  21.,  56.,   9.,   4.,\n",
       "        39.,  46.,  15.,  17.,  40.,  55.,  22.,  44.,  87.,  62.,  57.,\n",
       "        58.,  24.,  21.,   9.,  87.,  14.,  41.,  11.,  17.,  64.,  19.,\n",
       "        32.,  48.,  15.,  24.,  31.,  50.,  10.,  25.,  18.,   8.,  75.,\n",
       "        14.,  48.,  34.,  50.,   9.,  46.,  15.,  44.,  28.,  38.,  22.,\n",
       "         8.,  20.,  37.,  63.,  19.,  21.,  17.,  34.,  37.,  38.,  34.,\n",
       "        18.,  81.,  20.,  15.,  45.,  62.,  48.,   9.,  27.,  14.,  63.,\n",
       "        18.,  22.,  16.,  14.,  17.,  18.,  39.,  30.,  79.,  38.,  66.,\n",
       "        24.,  17.,   9.,  32.,  15.,  25.,  14.,  58.,  67.,  58.,  23.,\n",
       "        14.,  34.,  54.,  25.,  36.,   4.,  30.,  18.,  66.,  37.,  54.,\n",
       "        33.,  16.,   8.,  24.,  47.,  13.,  63.,  25.,  27.,  68.,  60.,\n",
       "        49.,  15.,  14.,  25.,  16.,  22.,  35.,  27.,  62.,  64.,   7.,\n",
       "        25.,  32.,  27.,  55.,  38.,  17.,  32.,  54.,  40.,  42.,  24.,\n",
       "        49.,  16.,   4.,  61.,  19.,  60.,  55.,  41.,  12.,  33.,  22.,\n",
       "        22.,  43.,  18.,  28.,  19.,  14.,  80.,  30.,  19.,  30.,   9.,\n",
       "        11.,  96.,  16.,  13.,  39.,  39.,  10.,  43.,  74.,  74.,  43.,\n",
       "        61.,  22.,  39.,  28.,  29.,  36.,  45.,   4.,  24.,  65.,  27.,\n",
       "        39.,  43.,  48.,  76.,  34.,  72.,  23.,   9.,  37.,  26.,  47.,\n",
       "        15.,  31.,  34.,  10.,  27.,  54.,  47.,   8.,  17.,  31.,  13.,\n",
       "        20.,  31.,  20.,  21.,  24.,  34.,  35.,  15.,  10.,  17.,  69.,\n",
       "        67.,  87.,  62.,  23.,  36.,  67.,  26.,  14.,  43.,  42.,  51.,\n",
       "        11.,  20.,  49.,  16.,  20.,  16.,   2.,  39.,  41.,  45.,  35.,\n",
       "        13.,  11.,  50.,  42.,   6.,  30.,   8.,  24.,  19.,  17.,  19.,\n",
       "        21.,  36.,  26.,  43.,  11.,  29.,  10.,  21.,  10.,  25.,  30.,\n",
       "        23.,  58.,  90.,   5.,  55.,  10.,  50.,  39.,  24.,  12.,  17.,\n",
       "        39.,  74.,  66.,  29.,  15.,  58.,  13.,  25.,  18.,   9.,  61.,\n",
       "         8.,  20.,  35.,  42.,  17.,  26.,  30.,  15.,  29.,  22.,  48.,\n",
       "         6.,  14.,  59.,  70.,  28.,  34.,  31.,  63.,  18.,  67.,  86.,\n",
       "        26.,  79.,  69.,  24.,  30.,  23.,  34.,  32.,  31.,  49.,  41.,\n",
       "        24.,  19.,  29.,  10.,   9.,  19.,  74.,  47.,  12.,  32.,   9.,\n",
       "        17.,   9.,  60.,  20.,  56.,  53.,  28.,  14.,  16.,  20.,  81.,\n",
       "        13.,  15.,  19.,  31.,  22.,  21.,  14.,  23.,  52.,  17.,  43.,\n",
       "        23.,  26.,  62.,  10.,  16.,   9.,  32.,  18.,  27.,  23.,  32.,\n",
       "        21.,  63.,  37.,  28.,  55.,  59.,  23.,  52.,  65.,  33.,  24.,\n",
       "        32.,  24.,  22.,  27.,  14.,  60.,  18.,  36.,  97.,  54.,  27.,\n",
       "         8.,  37.,  17.,  43.,  22.,  68.,   9.,   6.,  64.,  26.,  22.,\n",
       "        21.,  28.,  37.,   2.,   5.,  16.,  35.,  26.,  36.,  58.,  15.,\n",
       "        60.,  54.,  42.,  24.,  16.,  20.,   9.,  34.,  31.,  13.,  42.,\n",
       "        35.,   6.,   4.,  16.,  17.,  17.,  23.,  38.,  30.,  26.,  18.,\n",
       "        32.,  16.,  35.,  38.,  35.,  18.,   8.,  19.,  50.,  42.,  28.,\n",
       "        32.,  29.,  34.,  44.,  17.,  11.,  29.,  36.,  38.,   7.,  25.,\n",
       "        34.,  11., 100.,   9.,  21.,  52.,  38.,  23.,  10.,  23.,  56.,\n",
       "        14.,  52.,  32.,  25.,   7.,  33.,  71.,   9.,   9.,  37.,  20.,\n",
       "        34.,  24.,  41.,  38.,   8.,   6.,   2.,  21.,  26.,  12.,  70.,\n",
       "        15.,  11.,  33.,  48.,  25.,  44.,  39.,  26.,  21.,  27.,  11.,\n",
       "        27.,  10.,   9.,  46.,   8.,  54.,  52.,  72.,  59.,  26.,  41.,\n",
       "        42.,  18.,  18.,  37.,  38.,  25.,  48.,  49.,  12.,  13.,  27.,\n",
       "        37.,  22.,  11.,  16.,  26.,  19.,  62.,  37.,  31.,  33.,  57.,\n",
       "        12.,  21.,  63.,  44.,  65.,  34.,  46.,  10.])"
      ]
     },
     "execution_count": 79,
     "metadata": {},
     "output_type": "execute_result"
    }
   ],
   "source": [
    "y"
   ]
  },
  {
   "cell_type": "code",
   "execution_count": 80,
   "id": "bfc27551",
   "metadata": {},
   "outputs": [],
   "source": [
    "from sklearn.model_selection import train_test_split\n",
    "X_train,X_test,y_train,y_test = train_test_split(X,y,test_size=0.2,random_state=2)"
   ]
  },
  {
   "cell_type": "code",
   "execution_count": 81,
   "id": "45778243",
   "metadata": {},
   "outputs": [],
   "source": [
    "mlr = MeraLr()"
   ]
  },
  {
   "cell_type": "code",
   "execution_count": 82,
   "id": "dfdd6bcc",
   "metadata": {},
   "outputs": [
    {
     "name": "stdout",
     "output_type": "stream",
     "text": [
      "-0.3984833283102708\n",
      "34.90679905872356\n"
     ]
    }
   ],
   "source": [
    "mlr.fit(X_train, y_train)"
   ]
  },
  {
   "cell_type": "code",
   "execution_count": null,
   "id": "e5fdcb46",
   "metadata": {},
   "outputs": [],
   "source": []
  }
 ],
 "metadata": {
  "kernelspec": {
   "display_name": "Python 3 (ipykernel)",
   "language": "python",
   "name": "python3"
  },
  "language_info": {
   "codemirror_mode": {
    "name": "ipython",
    "version": 3
   },
   "file_extension": ".py",
   "mimetype": "text/x-python",
   "name": "python",
   "nbconvert_exporter": "python",
   "pygments_lexer": "ipython3",
   "version": "3.10.9"
  }
 },
 "nbformat": 4,
 "nbformat_minor": 5
}
